{
 "cells": [
  {
   "cell_type": "code",
   "execution_count": 1,
   "metadata": {},
   "outputs": [
    {
     "name": "stderr",
     "output_type": "stream",
     "text": [
      "/anaconda3/lib/python3.6/site-packages/h5py/__init__.py:36: FutureWarning: Conversion of the second argument of issubdtype from `float` to `np.floating` is deprecated. In future, it will be treated as `np.float64 == np.dtype(float).type`.\n",
      "  from ._conv import register_converters as _register_converters\n"
     ]
    },
    {
     "name": "stdout",
     "output_type": "stream",
     "text": [
      "1.10.0\n"
     ]
    }
   ],
   "source": [
    "import tensorflow as tf\n",
    "from tensorflow import keras\n",
    "\n",
    "# Helper libraries\n",
    "import numpy as np\n",
    "import matplotlib.pyplot as plt\n",
    "\n",
    "print(tf.__version__)"
   ]
  },
  {
   "cell_type": "code",
   "execution_count": 2,
   "metadata": {},
   "outputs": [],
   "source": [
    "fashion_mnist = keras.datasets.fashion_mnist\n",
    "\n",
    "(train_images, train_labels), (test_images, test_labels) = fashion_mnist.load_data()"
   ]
  },
  {
   "cell_type": "code",
   "execution_count": 3,
   "metadata": {},
   "outputs": [],
   "source": [
    "class_names = ['T-shirt/top', 'Trouser', 'Pullover', 'Dress', 'Coat', \n",
    "               'Sandal', 'Shirt', 'Sneaker', 'Bag', 'Ankle boot']"
   ]
  },
  {
   "cell_type": "code",
   "execution_count": 4,
   "metadata": {},
   "outputs": [
    {
     "data": {
      "text/plain": [
       "(60000, 28, 28)"
      ]
     },
     "execution_count": 4,
     "metadata": {},
     "output_type": "execute_result"
    }
   ],
   "source": [
    "train_images.shape\n"
   ]
  },
  {
   "cell_type": "code",
   "execution_count": 5,
   "metadata": {},
   "outputs": [
    {
     "data": {
      "text/plain": [
       "array([9, 0, 0, ..., 3, 0, 5], dtype=uint8)"
      ]
     },
     "execution_count": 5,
     "metadata": {},
     "output_type": "execute_result"
    }
   ],
   "source": [
    "train_labels\n"
   ]
  },
  {
   "cell_type": "code",
   "execution_count": 6,
   "metadata": {},
   "outputs": [
    {
     "data": {
      "text/plain": [
       "(10000, 28, 28)"
      ]
     },
     "execution_count": 6,
     "metadata": {},
     "output_type": "execute_result"
    }
   ],
   "source": [
    "test_images.shape\n"
   ]
  },
  {
   "cell_type": "code",
   "execution_count": 7,
   "metadata": {},
   "outputs": [],
   "source": [
    "train_images = train_images / 255.0\n",
    "\n",
    "test_images = test_images / 255.0"
   ]
  },
  {
   "cell_type": "code",
   "execution_count": 8,
   "metadata": {},
   "outputs": [],
   "source": [
    "model = keras.Sequential([\n",
    "    keras.layers.Flatten(input_shape=(28, 28)),\n",
    "    keras.layers.Dense(128, activation=tf.nn.relu),\n",
    "    keras.layers.Dense(10, activation=tf.nn.softmax)\n",
    "])"
   ]
  },
  {
   "cell_type": "code",
   "execution_count": 9,
   "metadata": {},
   "outputs": [],
   "source": [
    "model.compile(optimizer=tf.train.AdamOptimizer(), \n",
    "              loss='sparse_categorical_crossentropy',\n",
    "              metrics=['accuracy'])"
   ]
  },
  {
   "cell_type": "code",
   "execution_count": 12,
   "metadata": {},
   "outputs": [
    {
     "name": "stdout",
     "output_type": "stream",
     "text": [
      "Epoch 1/100\n",
      "60000/60000 [==============================] - 5s 81us/step - loss: 0.1303 - acc: 0.9502\n",
      "Epoch 2/100\n",
      "60000/60000 [==============================] - 5s 81us/step - loss: 0.1265 - acc: 0.9530\n",
      "Epoch 3/100\n",
      "60000/60000 [==============================] - 7s 109us/step - loss: 0.1214 - acc: 0.9538\n",
      "Epoch 4/100\n",
      "60000/60000 [==============================] - 6s 105us/step - loss: 0.1212 - acc: 0.9537\n",
      "Epoch 5/100\n",
      "60000/60000 [==============================] - 7s 109us/step - loss: 0.1203 - acc: 0.9550\n",
      "Epoch 6/100\n",
      "60000/60000 [==============================] - 6s 105us/step - loss: 0.1186 - acc: 0.9554\n",
      "Epoch 7/100\n",
      "60000/60000 [==============================] - 5s 75us/step - loss: 0.1148 - acc: 0.9573\n",
      "Epoch 8/100\n",
      "60000/60000 [==============================] - 5s 80us/step - loss: 0.1119 - acc: 0.9582\n",
      "Epoch 9/100\n",
      "60000/60000 [==============================] - 4s 73us/step - loss: 0.1117 - acc: 0.9584\n",
      "Epoch 10/100\n",
      "60000/60000 [==============================] - 4s 67us/step - loss: 0.1092 - acc: 0.9591\n",
      "Epoch 11/100\n",
      "60000/60000 [==============================] - 4s 71us/step - loss: 0.1070 - acc: 0.9599\n",
      "Epoch 12/100\n",
      "60000/60000 [==============================] - 5s 81us/step - loss: 0.1056 - acc: 0.9608\n",
      "Epoch 13/100\n",
      "60000/60000 [==============================] - 4s 67us/step - loss: 0.1025 - acc: 0.9619\n",
      "Epoch 14/100\n",
      "60000/60000 [==============================] - 4s 66us/step - loss: 0.1000 - acc: 0.9623\n",
      "Epoch 15/100\n",
      "60000/60000 [==============================] - 4s 61us/step - loss: 0.1015 - acc: 0.9618\n",
      "Epoch 16/100\n",
      "60000/60000 [==============================] - 4s 61us/step - loss: 0.0982 - acc: 0.9632\n",
      "Epoch 17/100\n",
      "60000/60000 [==============================] - 4s 63us/step - loss: 0.0984 - acc: 0.9631\n",
      "Epoch 18/100\n",
      "60000/60000 [==============================] - 4s 63us/step - loss: 0.0941 - acc: 0.9652\n",
      "Epoch 19/100\n",
      "60000/60000 [==============================] - 4s 67us/step - loss: 0.0942 - acc: 0.9644\n",
      "Epoch 20/100\n",
      "60000/60000 [==============================] - 4s 72us/step - loss: 0.0918 - acc: 0.9662\n",
      "Epoch 21/100\n",
      "60000/60000 [==============================] - 6s 96us/step - loss: 0.0945 - acc: 0.9642\n",
      "Epoch 22/100\n",
      "60000/60000 [==============================] - 5s 86us/step - loss: 0.0892 - acc: 0.9659: 0s - \n",
      "Epoch 23/100\n",
      "60000/60000 [==============================] - 5s 78us/step - loss: 0.0892 - acc: 0.9667\n",
      "Epoch 24/100\n",
      "60000/60000 [==============================] - 4s 66us/step - loss: 0.0876 - acc: 0.9666\n",
      "Epoch 25/100\n",
      "60000/60000 [==============================] - 4s 71us/step - loss: 0.0849 - acc: 0.9676\n",
      "Epoch 26/100\n",
      "60000/60000 [==============================] - 4s 72us/step - loss: 0.0846 - acc: 0.9685\n",
      "Epoch 27/100\n",
      "60000/60000 [==============================] - 4s 60us/step - loss: 0.0827 - acc: 0.9690\n",
      "Epoch 28/100\n",
      "60000/60000 [==============================] - 4s 61us/step - loss: 0.0844 - acc: 0.9683\n",
      "Epoch 29/100\n",
      "60000/60000 [==============================] - 4s 61us/step - loss: 0.0809 - acc: 0.9695\n",
      "Epoch 30/100\n",
      "60000/60000 [==============================] - 4s 59us/step - loss: 0.0798 - acc: 0.9693\n",
      "Epoch 31/100\n",
      "60000/60000 [==============================] - 4s 60us/step - loss: 0.0775 - acc: 0.9708\n",
      "Epoch 32/100\n",
      "60000/60000 [==============================] - 4s 60us/step - loss: 0.0788 - acc: 0.9704\n",
      "Epoch 33/100\n",
      "60000/60000 [==============================] - 4s 68us/step - loss: 0.0801 - acc: 0.9703\n",
      "Epoch 34/100\n",
      "60000/60000 [==============================] - 5s 84us/step - loss: 0.0756 - acc: 0.9714: 0s - loss: 0.0759 - acc: 0.97\n",
      "Epoch 35/100\n",
      "60000/60000 [==============================] - 5s 75us/step - loss: 0.0744 - acc: 0.9722\n",
      "Epoch 36/100\n",
      "60000/60000 [==============================] - 4s 67us/step - loss: 0.0746 - acc: 0.9721\n",
      "Epoch 37/100\n",
      "60000/60000 [==============================] - 5s 91us/step - loss: 0.0681 - acc: 0.9746\n",
      "Epoch 38/100\n",
      "60000/60000 [==============================] - 4s 72us/step - loss: 0.0726 - acc: 0.9727\n",
      "Epoch 39/100\n",
      "60000/60000 [==============================] - 4s 74us/step - loss: 0.0728 - acc: 0.9727: 0s - loss: 0.0712 - acc\n",
      "Epoch 40/100\n",
      "60000/60000 [==============================] - 5s 77us/step - loss: 0.0709 - acc: 0.9736\n",
      "Epoch 41/100\n",
      "60000/60000 [==============================] - 4s 69us/step - loss: 0.0675 - acc: 0.9748\n",
      "Epoch 42/100\n",
      "60000/60000 [==============================] - 4s 66us/step - loss: 0.0686 - acc: 0.9741\n",
      "Epoch 43/100\n",
      "60000/60000 [==============================] - 4s 61us/step - loss: 0.0686 - acc: 0.9736\n",
      "Epoch 44/100\n",
      "60000/60000 [==============================] - 4s 66us/step - loss: 0.0682 - acc: 0.9750\n",
      "Epoch 45/100\n",
      "60000/60000 [==============================] - 5s 82us/step - loss: 0.0661 - acc: 0.9752\n",
      "Epoch 46/100\n",
      "60000/60000 [==============================] - 4s 69us/step - loss: 0.0642 - acc: 0.9762\n",
      "Epoch 47/100\n",
      "60000/60000 [==============================] - 4s 62us/step - loss: 0.0656 - acc: 0.9753\n",
      "Epoch 48/100\n",
      "60000/60000 [==============================] - 5s 78us/step - loss: 0.0637 - acc: 0.9759\n",
      "Epoch 49/100\n",
      "60000/60000 [==============================] - 4s 74us/step - loss: 0.0610 - acc: 0.9770\n",
      "Epoch 50/100\n",
      "60000/60000 [==============================] - 4s 66us/step - loss: 0.0628 - acc: 0.9766\n",
      "Epoch 51/100\n",
      "60000/60000 [==============================] - 4s 70us/step - loss: 0.0583 - acc: 0.9779\n",
      "Epoch 52/100\n",
      "60000/60000 [==============================] - 4s 62us/step - loss: 0.0622 - acc: 0.9764\n",
      "Epoch 53/100\n",
      "60000/60000 [==============================] - 4s 67us/step - loss: 0.0606 - acc: 0.9773\n",
      "Epoch 54/100\n",
      "60000/60000 [==============================] - 4s 74us/step - loss: 0.0596 - acc: 0.9781\n",
      "Epoch 55/100\n",
      "60000/60000 [==============================] - 4s 67us/step - loss: 0.0572 - acc: 0.9788\n",
      "Epoch 56/100\n",
      "60000/60000 [==============================] - 5s 77us/step - loss: 0.0569 - acc: 0.9791\n",
      "Epoch 57/100\n",
      "60000/60000 [==============================] - 4s 65us/step - loss: 0.0586 - acc: 0.9785\n",
      "Epoch 58/100\n",
      "60000/60000 [==============================] - 4s 62us/step - loss: 0.0569 - acc: 0.9791\n",
      "Epoch 59/100\n",
      "60000/60000 [==============================] - 4s 72us/step - loss: 0.0559 - acc: 0.9790: 0s - loss: 0.0558 - acc: 0.97\n",
      "Epoch 60/100\n",
      "60000/60000 [==============================] - 5s 77us/step - loss: 0.0566 - acc: 0.9787\n",
      "Epoch 61/100\n",
      "60000/60000 [==============================] - 5s 77us/step - loss: 0.0550 - acc: 0.9797\n",
      "Epoch 62/100\n",
      "60000/60000 [==============================] - 6s 102us/step - loss: 0.0536 - acc: 0.9800\n",
      "Epoch 63/100\n",
      "60000/60000 [==============================] - 5s 83us/step - loss: 0.0550 - acc: 0.9799\n",
      "Epoch 64/100\n",
      "60000/60000 [==============================] - 4s 74us/step - loss: 0.0523 - acc: 0.9805\n",
      "Epoch 65/100\n",
      "60000/60000 [==============================] - 4s 69us/step - loss: 0.0541 - acc: 0.9804\n",
      "Epoch 66/100\n",
      "60000/60000 [==============================] - 5s 84us/step - loss: 0.0506 - acc: 0.9808\n",
      "Epoch 67/100\n",
      "60000/60000 [==============================] - 5s 85us/step - loss: 0.0526 - acc: 0.9813\n",
      "Epoch 68/100\n",
      "60000/60000 [==============================] - 4s 61us/step - loss: 0.0500 - acc: 0.9814\n",
      "Epoch 69/100\n",
      "60000/60000 [==============================] - 4s 73us/step - loss: 0.0517 - acc: 0.9811\n",
      "Epoch 70/100\n",
      "60000/60000 [==============================] - 5s 79us/step - loss: 0.0496 - acc: 0.9823\n",
      "Epoch 71/100\n",
      "60000/60000 [==============================] - 5s 78us/step - loss: 0.0519 - acc: 0.9807: 0s - loss: 0.053\n",
      "Epoch 72/100\n",
      "60000/60000 [==============================] - 5s 89us/step - loss: 0.0479 - acc: 0.9824\n",
      "Epoch 73/100\n",
      "60000/60000 [==============================] - 4s 67us/step - loss: 0.0499 - acc: 0.9808\n",
      "Epoch 74/100\n",
      "60000/60000 [==============================] - 4s 60us/step - loss: 0.0490 - acc: 0.9817\n",
      "Epoch 75/100\n",
      "60000/60000 [==============================] - 4s 60us/step - loss: 0.0453 - acc: 0.9836\n",
      "Epoch 76/100\n",
      "60000/60000 [==============================] - 4s 60us/step - loss: 0.0470 - acc: 0.9825\n",
      "Epoch 77/100\n",
      "60000/60000 [==============================] - 4s 60us/step - loss: 0.0458 - acc: 0.9826\n",
      "Epoch 78/100\n",
      "60000/60000 [==============================] - 4s 60us/step - loss: 0.0501 - acc: 0.9811\n",
      "Epoch 79/100\n",
      "60000/60000 [==============================] - 4s 59us/step - loss: 0.0451 - acc: 0.9832\n",
      "Epoch 80/100\n"
     ]
    },
    {
     "name": "stdout",
     "output_type": "stream",
     "text": [
      "60000/60000 [==============================] - 4s 59us/step - loss: 0.0448 - acc: 0.9837\n",
      "Epoch 81/100\n",
      "60000/60000 [==============================] - 4s 60us/step - loss: 0.0449 - acc: 0.9835\n",
      "Epoch 82/100\n",
      "60000/60000 [==============================] - 4s 60us/step - loss: 0.0448 - acc: 0.9839\n",
      "Epoch 83/100\n",
      "60000/60000 [==============================] - 4s 60us/step - loss: 0.0452 - acc: 0.9839\n",
      "Epoch 84/100\n",
      "60000/60000 [==============================] - 4s 60us/step - loss: 0.0430 - acc: 0.9844\n",
      "Epoch 85/100\n",
      "60000/60000 [==============================] - 4s 61us/step - loss: 0.0452 - acc: 0.9829\n",
      "Epoch 86/100\n",
      "60000/60000 [==============================] - 4s 62us/step - loss: 0.0428 - acc: 0.9838\n",
      "Epoch 87/100\n",
      "60000/60000 [==============================] - 4s 65us/step - loss: 0.0454 - acc: 0.9834\n",
      "Epoch 88/100\n",
      "60000/60000 [==============================] - 4s 70us/step - loss: 0.0423 - acc: 0.9841\n",
      "Epoch 89/100\n",
      "60000/60000 [==============================] - 4s 67us/step - loss: 0.0445 - acc: 0.9839\n",
      "Epoch 90/100\n",
      "60000/60000 [==============================] - 5s 79us/step - loss: 0.0403 - acc: 0.9851\n",
      "Epoch 91/100\n",
      "60000/60000 [==============================] - 4s 71us/step - loss: 0.0433 - acc: 0.9836\n",
      "Epoch 92/100\n",
      "60000/60000 [==============================] - 4s 70us/step - loss: 0.0410 - acc: 0.9847\n",
      "Epoch 93/100\n",
      "60000/60000 [==============================] - 4s 63us/step - loss: 0.0424 - acc: 0.9845\n",
      "Epoch 94/100\n",
      "60000/60000 [==============================] - 4s 60us/step - loss: 0.0401 - acc: 0.9852\n",
      "Epoch 95/100\n",
      "60000/60000 [==============================] - 4s 59us/step - loss: 0.0395 - acc: 0.9855\n",
      "Epoch 96/100\n",
      "60000/60000 [==============================] - 4s 61us/step - loss: 0.0427 - acc: 0.9846\n",
      "Epoch 97/100\n",
      "60000/60000 [==============================] - 4s 60us/step - loss: 0.0374 - acc: 0.9865\n",
      "Epoch 98/100\n",
      "60000/60000 [==============================] - 4s 68us/step - loss: 0.0417 - acc: 0.9854\n",
      "Epoch 99/100\n",
      "60000/60000 [==============================] - 4s 71us/step - loss: 0.0403 - acc: 0.9848\n",
      "Epoch 100/100\n",
      "60000/60000 [==============================] - 4s 67us/step - loss: 0.0399 - acc: 0.9859: 1s -\n"
     ]
    },
    {
     "data": {
      "text/plain": [
       "<tensorflow.python.keras.callbacks.History at 0x1126a4240>"
      ]
     },
     "execution_count": 12,
     "metadata": {},
     "output_type": "execute_result"
    }
   ],
   "source": [
    "model.fit(train_images, train_labels, epochs=100)"
   ]
  },
  {
   "cell_type": "code",
   "execution_count": 19,
   "metadata": {},
   "outputs": [
    {
     "name": "stdout",
     "output_type": "stream",
     "text": [
      "60000/60000 [==============================] - 2s 28us/step\n",
      "Test accuracy: 0.9885666666666667\n"
     ]
    }
   ],
   "source": [
    "test_loss, test_acc = model.evaluate(train_images, train_labels)\n",
    "\n",
    "print('Test accuracy:', test_acc)"
   ]
  },
  {
   "cell_type": "code",
   "execution_count": null,
   "metadata": {},
   "outputs": [],
   "source": []
  }
 ],
 "metadata": {
  "kernelspec": {
   "display_name": "Python 3",
   "language": "python",
   "name": "python3"
  },
  "language_info": {
   "codemirror_mode": {
    "name": "ipython",
    "version": 3
   },
   "file_extension": ".py",
   "mimetype": "text/x-python",
   "name": "python",
   "nbconvert_exporter": "python",
   "pygments_lexer": "ipython3",
   "version": "3.6.5"
  }
 },
 "nbformat": 4,
 "nbformat_minor": 2
}
