{
 "cells": [
  {
   "cell_type": "code",
   "execution_count": 1,
   "metadata": {},
   "outputs": [
    {
     "name": "stderr",
     "output_type": "stream",
     "text": [
      "/anaconda3/lib/python3.6/site-packages/h5py/__init__.py:36: FutureWarning: Conversion of the second argument of issubdtype from `float` to `np.floating` is deprecated. In future, it will be treated as `np.float64 == np.dtype(float).type`.\n",
      "  from ._conv import register_converters as _register_converters\n"
     ]
    },
    {
     "name": "stdout",
     "output_type": "stream",
     "text": [
      "1.10.0\n"
     ]
    }
   ],
   "source": [
    "import tensorflow as tf\n",
    "from tensorflow import keras\n",
    "\n",
    "# Helper libraries\n",
    "import numpy as np\n",
    "import matplotlib.pyplot as plt\n",
    "\n",
    "print(tf.__version__)"
   ]
  },
  {
   "cell_type": "code",
   "execution_count": 2,
   "metadata": {},
   "outputs": [],
   "source": [
    "fashion_mnist = keras.datasets.fashion_mnist\n",
    "\n",
    "(train_images, train_labels), (test_images, test_labels) = fashion_mnist.load_data()"
   ]
  },
  {
   "cell_type": "code",
   "execution_count": 3,
   "metadata": {},
   "outputs": [],
   "source": [
    "class_names = ['T-shirt/top', 'Trouser', 'Pullover', 'Dress', 'Coat', \n",
    "               'Sandal', 'Shirt', 'Sneaker', 'Bag', 'Ankle boot']"
   ]
  },
  {
   "cell_type": "code",
   "execution_count": 4,
   "metadata": {},
   "outputs": [
    {
     "data": {
      "text/plain": [
       "(60000, 28, 28)"
      ]
     },
     "execution_count": 4,
     "metadata": {},
     "output_type": "execute_result"
    }
   ],
   "source": [
    "train_images.shape\n"
   ]
  },
  {
   "cell_type": "code",
   "execution_count": 5,
   "metadata": {},
   "outputs": [
    {
     "data": {
      "text/plain": [
       "array([9, 0, 0, ..., 3, 0, 5], dtype=uint8)"
      ]
     },
     "execution_count": 5,
     "metadata": {},
     "output_type": "execute_result"
    }
   ],
   "source": [
    "train_labels\n"
   ]
  },
  {
   "cell_type": "code",
   "execution_count": 6,
   "metadata": {},
   "outputs": [
    {
     "data": {
      "text/plain": [
       "(10000, 28, 28)"
      ]
     },
     "execution_count": 6,
     "metadata": {},
     "output_type": "execute_result"
    }
   ],
   "source": [
    "test_images.shape\n"
   ]
  },
  {
   "cell_type": "code",
   "execution_count": 7,
   "metadata": {},
   "outputs": [],
   "source": [
    "train_images = train_images / 255.0\n",
    "\n",
    "test_images = test_images / 255.0"
   ]
  },
  {
   "cell_type": "code",
   "execution_count": 8,
   "metadata": {},
   "outputs": [],
   "source": [
    "model = keras.Sequential([\n",
    "    keras.layers.Flatten(input_shape=(28, 28)),\n",
    "    keras.layers.Dense(128, activation=tf.nn.relu),\n",
    "    keras.layers.Dense(10, activation=tf.nn.softmax)\n",
    "])"
   ]
  },
  {
   "cell_type": "code",
   "execution_count": 9,
   "metadata": {},
   "outputs": [],
   "source": [
    "model.compile(optimizer=tf.train.AdamOptimizer(), \n",
    "              loss='sparse_categorical_crossentropy',\n",
    "              metrics=['accuracy'])"
   ]
  },
  {
   "cell_type": "code",
   "execution_count": 11,
   "metadata": {},
   "outputs": [
    {
     "name": "stdout",
     "output_type": "stream",
     "text": [
      "Epoch 1/50\n",
      "60000/60000 [==============================] - 4s 65us/step - loss: 0.2970 - acc: 0.8921\n",
      "Epoch 2/50\n",
      "60000/60000 [==============================] - 4s 64us/step - loss: 0.2817 - acc: 0.8952\n",
      "Epoch 3/50\n",
      "60000/60000 [==============================] - 4s 65us/step - loss: 0.2706 - acc: 0.8999\n",
      "Epoch 4/50\n",
      "60000/60000 [==============================] - 4s 65us/step - loss: 0.2599 - acc: 0.9037\n",
      "Epoch 5/50\n",
      "60000/60000 [==============================] - 4s 65us/step - loss: 0.2496 - acc: 0.9059\n",
      "Epoch 6/50\n",
      "60000/60000 [==============================] - 4s 65us/step - loss: 0.2398 - acc: 0.9100\n",
      "Epoch 7/50\n",
      "60000/60000 [==============================] - 4s 65us/step - loss: 0.2321 - acc: 0.9125\n",
      "Epoch 8/50\n",
      "60000/60000 [==============================] - 4s 65us/step - loss: 0.2276 - acc: 0.9143\n",
      "Epoch 9/50\n",
      "60000/60000 [==============================] - 4s 65us/step - loss: 0.2175 - acc: 0.9176\n",
      "Epoch 10/50\n",
      "60000/60000 [==============================] - 4s 65us/step - loss: 0.2120 - acc: 0.9206\n",
      "Epoch 11/50\n",
      "60000/60000 [==============================] - 4s 65us/step - loss: 0.2045 - acc: 0.9234\n",
      "Epoch 12/50\n",
      "60000/60000 [==============================] - 4s 65us/step - loss: 0.1990 - acc: 0.9254\n",
      "Epoch 13/50\n",
      "60000/60000 [==============================] - 4s 74us/step - loss: 0.1950 - acc: 0.9267\n",
      "Epoch 14/50\n",
      "60000/60000 [==============================] - 4s 67us/step - loss: 0.1884 - acc: 0.9294\n",
      "Epoch 15/50\n",
      "60000/60000 [==============================] - 4s 71us/step - loss: 0.1833 - acc: 0.9316\n",
      "Epoch 16/50\n",
      "60000/60000 [==============================] - 4s 66us/step - loss: 0.1778 - acc: 0.9341\n",
      "Epoch 17/50\n",
      "60000/60000 [==============================] - 4s 66us/step - loss: 0.1746 - acc: 0.9339\n",
      "Epoch 18/50\n",
      "60000/60000 [==============================] - 4s 66us/step - loss: 0.1706 - acc: 0.9359\n",
      "Epoch 19/50\n",
      "60000/60000 [==============================] - 4s 67us/step - loss: 0.1666 - acc: 0.9378\n",
      "Epoch 20/50\n",
      "60000/60000 [==============================] - 4s 67us/step - loss: 0.1637 - acc: 0.9384\n",
      "Epoch 21/50\n",
      "60000/60000 [==============================] - 4s 67us/step - loss: 0.1579 - acc: 0.9405\n",
      "Epoch 22/50\n",
      "60000/60000 [==============================] - 4s 68us/step - loss: 0.1537 - acc: 0.9423\n",
      "Epoch 23/50\n",
      "60000/60000 [==============================] - 4s 68us/step - loss: 0.1508 - acc: 0.9437\n",
      "Epoch 24/50\n",
      "60000/60000 [==============================] - 4s 68us/step - loss: 0.1455 - acc: 0.9456\n",
      "Epoch 25/50\n",
      "60000/60000 [==============================] - 5s 79us/step - loss: 0.1476 - acc: 0.9448\n",
      "Epoch 26/50\n",
      "60000/60000 [==============================] - 4s 68us/step - loss: 0.1404 - acc: 0.9475\n",
      "Epoch 27/50\n",
      "60000/60000 [==============================] - 4s 66us/step - loss: 0.1387 - acc: 0.9479\n",
      "Epoch 28/50\n",
      "60000/60000 [==============================] - 4s 66us/step - loss: 0.1341 - acc: 0.9492\n",
      "Epoch 29/50\n",
      "60000/60000 [==============================] - 4s 67us/step - loss: 0.1344 - acc: 0.9499\n",
      "Epoch 30/50\n",
      "60000/60000 [==============================] - 5s 75us/step - loss: 0.1302 - acc: 0.9516\n",
      "Epoch 31/50\n",
      "60000/60000 [==============================] - 4s 68us/step - loss: 0.1271 - acc: 0.9528\n",
      "Epoch 32/50\n",
      "60000/60000 [==============================] - 4s 68us/step - loss: 0.1250 - acc: 0.9538\n",
      "Epoch 33/50\n",
      "60000/60000 [==============================] - 4s 68us/step - loss: 0.1221 - acc: 0.9541\n",
      "Epoch 34/50\n",
      "60000/60000 [==============================] - 4s 68us/step - loss: 0.1187 - acc: 0.9554\n",
      "Epoch 35/50\n",
      "60000/60000 [==============================] - 4s 67us/step - loss: 0.1174 - acc: 0.9565\n",
      "Epoch 36/50\n",
      "60000/60000 [==============================] - 4s 67us/step - loss: 0.1148 - acc: 0.9566\n",
      "Epoch 37/50\n",
      "60000/60000 [==============================] - 4s 68us/step - loss: 0.1139 - acc: 0.9570\n",
      "Epoch 38/50\n",
      "60000/60000 [==============================] - 4s 67us/step - loss: 0.1101 - acc: 0.9586\n",
      "Epoch 39/50\n",
      "60000/60000 [==============================] - 4s 68us/step - loss: 0.1073 - acc: 0.9603: 0s - loss: 0.1070 - a\n",
      "Epoch 40/50\n",
      "60000/60000 [==============================] - 4s 67us/step - loss: 0.1068 - acc: 0.9595\n",
      "Epoch 41/50\n",
      "60000/60000 [==============================] - 4s 69us/step - loss: 0.1066 - acc: 0.9600\n",
      "Epoch 42/50\n",
      "60000/60000 [==============================] - 4s 70us/step - loss: 0.1050 - acc: 0.9612\n",
      "Epoch 43/50\n",
      "60000/60000 [==============================] - 4s 69us/step - loss: 0.1006 - acc: 0.9618\n",
      "Epoch 44/50\n",
      "60000/60000 [==============================] - 4s 73us/step - loss: 0.1014 - acc: 0.9622\n",
      "Epoch 45/50\n",
      "60000/60000 [==============================] - 4s 69us/step - loss: 0.0987 - acc: 0.9632\n",
      "Epoch 46/50\n",
      "60000/60000 [==============================] - 4s 68us/step - loss: 0.0961 - acc: 0.9638\n",
      "Epoch 47/50\n",
      "60000/60000 [==============================] - 4s 67us/step - loss: 0.0958 - acc: 0.9648\n",
      "Epoch 48/50\n",
      "60000/60000 [==============================] - 4s 69us/step - loss: 0.0938 - acc: 0.9654\n",
      "Epoch 49/50\n",
      "60000/60000 [==============================] - 4s 68us/step - loss: 0.0940 - acc: 0.9650\n",
      "Epoch 50/50\n",
      "60000/60000 [==============================] - 4s 69us/step - loss: 0.0927 - acc: 0.9653\n"
     ]
    },
    {
     "data": {
      "text/plain": [
       "<tensorflow.python.keras.callbacks.History at 0x10b8f0cc0>"
      ]
     },
     "execution_count": 11,
     "metadata": {},
     "output_type": "execute_result"
    }
   ],
   "source": [
    "model.fit(train_images, train_labels, epochs=50)"
   ]
  },
  {
   "cell_type": "code",
   "execution_count": 20,
   "metadata": {},
   "outputs": [
    {
     "name": "stdout",
     "output_type": "stream",
     "text": [
      "10000/10000 [==============================] - 0s 29us/step\n",
      "Test accuracy: 0.8831\n"
     ]
    }
   ],
   "source": [
    "test_loss, test_acc = model.evaluate(test_images, test_labels)\n",
    "\n",
    "print('Test accuracy:', test_acc)"
   ]
  },
  {
   "cell_type": "code",
   "execution_count": 13,
   "metadata": {},
   "outputs": [],
   "source": [
    "prediction = model.predict(train_images)"
   ]
  },
  {
   "cell_type": "code",
   "execution_count": 14,
   "metadata": {},
   "outputs": [
    {
     "data": {
      "text/plain": [
       "9"
      ]
     },
     "execution_count": 14,
     "metadata": {},
     "output_type": "execute_result"
    }
   ],
   "source": [
    "np.argmax(prediction[0])"
   ]
  },
  {
   "cell_type": "code",
   "execution_count": 15,
   "metadata": {},
   "outputs": [
    {
     "data": {
      "text/plain": [
       "9"
      ]
     },
     "execution_count": 15,
     "metadata": {},
     "output_type": "execute_result"
    }
   ],
   "source": [
    "test_labels[0]"
   ]
  },
  {
   "cell_type": "code",
   "execution_count": 16,
   "metadata": {},
   "outputs": [],
   "source": [
    "for i in range(len(prediction)):\n",
    "    prediction[i] = np.argmax(prediction[i])"
   ]
  },
  {
   "cell_type": "code",
   "execution_count": 19,
   "metadata": {},
   "outputs": [
    {
     "name": "stdout",
     "output_type": "stream",
     "text": [
      "9\n"
     ]
    },
    {
     "data": {
      "image/png": "[encoded data removed]",
      "text/plain": [
       "<Figure size 432x288 with 1 Axes>"
      ]
     },
     "metadata": {},
     "output_type": "display_data"
    }
   ],
   "source": [
    "plt.figure()\n",
    "plt.imshow(test_images[0])\n",
    "print(test_labels[0])"
   ]
  }
 ],
 "metadata": {
  "kernelspec": {
   "display_name": "Python 3",
   "language": "python",
   "name": "python3"
  },
  "language_info": {
   "codemirror_mode": {
    "name": "ipython",
    "version": 3
   },
   "file_extension": ".py",
   "mimetype": "text/x-python",
   "name": "python",
   "nbconvert_exporter": "python",
   "pygments_lexer": "ipython3",
   "version": "3.6.5"
  }
 },
 "nbformat": 4,
 "nbformat_minor": 2
}
